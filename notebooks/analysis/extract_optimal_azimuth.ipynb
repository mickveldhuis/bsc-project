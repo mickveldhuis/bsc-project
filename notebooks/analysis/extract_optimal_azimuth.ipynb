{
 "cells": [
  {
   "cell_type": "code",
   "execution_count": 1,
   "metadata": {},
   "outputs": [],
   "source": [
    "%matplotlib inline\n",
    "import numpy as np\n",
    "from scipy.optimize import curve_fit\n",
    "\n",
    "import ipywidgets as widgets\n",
    "import matplotlib.pyplot as plt\n",
    "from mpl_toolkits.mplot3d import Axes3D\n",
    "\n",
    "from datetime import datetime\n",
    "\n",
    "from joblib import Parallel, delayed, dump, load"
   ]
  },
  {
   "cell_type": "markdown",
   "metadata": {},
   "source": [
    "Some useful matplotlib settings:"
   ]
  },
  {
   "cell_type": "code",
   "execution_count": 2,
   "metadata": {},
   "outputs": [],
   "source": [
    "plt.rc('text', usetex=True)\n",
    "plt.rc('font', family='serif')"
   ]
  },
  {
   "cell_type": "markdown",
   "metadata": {},
   "source": [
    "Some useful constants:"
   ]
  },
  {
   "cell_type": "code",
   "execution_count": 3,
   "metadata": {},
   "outputs": [],
   "source": [
    "LAT = 53.24 # Latitude in Grunn\n",
    "ABOVE_15 = False # Use the 'above 15 deg altitude' condition\n",
    "\n",
    "date_signature = datetime.now().strftime('%d_%h_%Y')"
   ]
  },
  {
   "cell_type": "markdown",
   "metadata": {},
   "source": [
    "Select the aperture: `telescope`, `guider`, or `finder`"
   ]
  },
  {
   "cell_type": "code",
   "execution_count": 4,
   "metadata": {},
   "outputs": [
    {
     "data": {
      "application/vnd.jupyter.widget-view+json": {
       "model_id": "5b370b6024e94e97b8488c1104c3b7a9",
       "version_major": 2,
       "version_minor": 0
      },
      "text/plain": [
       "Dropdown(description='Aperture:', options=('telescope', 'guider', 'finder'), value='telescope')"
      ]
     },
     "metadata": {},
     "output_type": "display_data"
    }
   ],
   "source": [
    "aperture_name = widgets.Dropdown(\n",
    "    options=['telescope', 'guider', 'finder'],\n",
    "    value='telescope',\n",
    "    description='Aperture:',\n",
    ")\n",
    "\n",
    "display(aperture_name)"
   ]
  },
  {
   "cell_type": "markdown",
   "metadata": {},
   "source": [
    "# Generating obstruction grids"
   ]
  },
  {
   "cell_type": "markdown",
   "metadata": {},
   "source": [
    "Define a function to extract the file name of the joblib data files:"
   ]
  },
  {
   "cell_type": "code",
   "execution_count": 5,
   "metadata": {},
   "outputs": [],
   "source": [
    "def file_name(n, ap_name='telescope'):\n",
    "    fn = '../../scripts/data/' + str(aperture_name.value) + '/blocked_grid_az_' + str(n) + '.joblib'\n",
    "\n",
    "    return fn"
   ]
  },
  {
   "cell_type": "markdown",
   "metadata": {},
   "source": [
    "Combine the 2D data sets to create one 3D dataset of dimensions equal to the Az, HA, and Dec data."
   ]
  },
  {
   "cell_type": "code",
   "execution_count": 6,
   "metadata": {
    "scrolled": true
   },
   "outputs": [],
   "source": [
    "# Empty array to store the new 3D data set in\n",
    "obstr_cube = []\n",
    "\n",
    "az_range = np.arange(0, 360, 1)\n",
    "\n",
    "for n_az in az_range:\n",
    "    with open(file_name(n_az), 'rb') as f:\n",
    "        data = load(f)\n",
    "        obstr_cube.append(data)\n",
    "\n",
    "obstr_cube = np.array(obstr_cube)\n",
    "\n",
    "with open('data/obstruction_cube_{}_{}.npy'.format(aperture_name.value, date_signature), 'wb') as f:\n",
    "    np.save(f, obstr_cube)"
   ]
  },
  {
   "cell_type": "markdown",
   "metadata": {},
   "source": [
    "Create a 3D grid of the HA, Dec, and Az. Calculate the altitude of the telescope & select all points above 15 degrees."
   ]
  },
  {
   "cell_type": "code",
   "execution_count": 7,
   "metadata": {},
   "outputs": [],
   "source": [
    "def altitude(ha, dec):\n",
    "    \"\"\"Returns altitude in deg.\"\"\"\n",
    "    lat = np.radians(LAT)\n",
    "    dec = np.radians(dec)\n",
    "    ha  = np.radians(ha)\n",
    "    \n",
    "    term_1 = np.sin(dec)*np.sin(lat)\n",
    "    term_2 = np.cos(dec)*np.cos(lat)*np.cos(ha)\n",
    "    \n",
    "    a = np.degrees(np.arcsin(term_1 + term_2))\n",
    "    \n",
    "    return a"
   ]
  },
  {
   "cell_type": "markdown",
   "metadata": {},
   "source": [
    "Then select the data points from the cube for with $a>15\\ \\text{deg}$ and the $\\text{obstruction}\\, \\%$ is zero!"
   ]
  },
  {
   "cell_type": "code",
   "execution_count": 8,
   "metadata": {},
   "outputs": [],
   "source": [
    "_az = np.linspace(0, 359, 360)\n",
    "_ha = np.linspace(-179, 180, 360) \n",
    "_dec = np.linspace(-90, 90, 181)\n",
    "\n",
    "az, ha, dec = np.meshgrid(_az, _ha, _dec, indexing='ij')"
   ]
  },
  {
   "cell_type": "markdown",
   "metadata": {},
   "source": [
    "Define conditions for selecting the coordinates"
   ]
  },
  {
   "cell_type": "code",
   "execution_count": 9,
   "metadata": {},
   "outputs": [],
   "source": [
    "alt = altitude(ha, dec)\n",
    "\n",
    "obstr_cond = obstr_cube == obstr_cube.min()\n",
    "alt_cond = alt >= 15\n",
    "\n",
    "cond = obstr_cond\n",
    "\n",
    "if ABOVE_15:\n",
    "    cond &= alt_cond"
   ]
  },
  {
   "cell_type": "markdown",
   "metadata": {},
   "source": [
    "Select the HA, Dec, and Az corresponding to no obstruction!"
   ]
  },
  {
   "cell_type": "code",
   "execution_count": 10,
   "metadata": {},
   "outputs": [],
   "source": [
    "ha_zero = ha[cond]\n",
    "ha_zero_shifted = np.where(ha_zero < 0, ha_zero + 360, ha_zero) # offset hour angle\n",
    "\n",
    "dec_zero = dec[cond]\n",
    "az_zero = az[cond]"
   ]
  },
  {
   "cell_type": "markdown",
   "metadata": {},
   "source": [
    "Compute the range of HAs and Decs based on the min obstruction condition."
   ]
  },
  {
   "cell_type": "code",
   "execution_count": 11,
   "metadata": {},
   "outputs": [],
   "source": [
    "ha_range = np.arange(ha_zero.min(), ha_zero.max() + 1, 1)\n",
    "ha_range_shifted = np.arange(ha_zero_shifted.min(), ha_zero_shifted.max() + 1, 1)\n",
    "dec_range = np.arange(dec_zero.min(), dec_zero.max() + 1, 1)"
   ]
  },
  {
   "cell_type": "markdown",
   "metadata": {},
   "source": [
    "## Plot"
   ]
  },
  {
   "cell_type": "code",
   "execution_count": 12,
   "metadata": {
    "scrolled": false
   },
   "outputs": [
    {
     "data": {
      "image/png": "[encoded data removed]",
      "text/plain": [
       "<Figure size 504x504 with 1 Axes>"
      ]
     },
     "metadata": {
      "needs_background": "light"
     },
     "output_type": "display_data"
    }
   ],
   "source": [
    "fig = plt.figure(figsize=(7, 7))\n",
    "frame = fig.add_subplot(1, 1, 1, projection ='3d')\n",
    "\n",
    "frame.grid(True, alpha=0.5)\n",
    "\n",
    "frame.set_xlabel('HA (deg)', fontsize=15)\n",
    "frame.set_ylabel('Dec (deg)', fontsize=15)\n",
    "frame.set_zlabel('Dome Az (deg)', fontsize=15)\n",
    "\n",
    "frame.plot(ha_zero[::], dec_zero[::], az_zero[::], color='black', ls='', alpha=0.5, marker='o', ms=2)\n",
    "\n",
    "# frame.view_init(elev=30, azim=40)\n",
    "\n",
    "plt.show()"
   ]
  },
  {
   "cell_type": "markdown",
   "metadata": {},
   "source": [
    "## Optimal $A_d$"
   ]
  },
  {
   "cell_type": "markdown",
   "metadata": {},
   "source": [
    "Define a function to extract the optimal azimuth from the $A_d$ grid. By selecting the point where (for a constant declination) the HA can move the longest westward, i.e. where the difference in HA is the largest."
   ]
  },
  {
   "cell_type": "code",
   "execution_count": 13,
   "metadata": {},
   "outputs": [],
   "source": [
    "a = np.array([1, 7, 2,4, 2])\n",
    "a.sort()"
   ]
  },
  {
   "cell_type": "code",
   "execution_count": 14,
   "metadata": {},
   "outputs": [
    {
     "data": {
      "text/plain": [
       "1"
      ]
     },
     "execution_count": 14,
     "metadata": {},
     "output_type": "execute_result"
    }
   ],
   "source": [
    "a[0]"
   ]
  },
  {
   "cell_type": "code",
   "execution_count": 15,
   "metadata": {},
   "outputs": [
    {
     "data": {
      "text/plain": [
       "7"
      ]
     },
     "execution_count": 15,
     "metadata": {},
     "output_type": "execute_result"
    }
   ],
   "source": [
    "a[-1]"
   ]
  },
  {
   "cell_type": "code",
   "execution_count": 16,
   "metadata": {},
   "outputs": [],
   "source": [
    "def delta_h(h, h_0):    \n",
    "    return h - h_0  \n",
    "\n",
    "# def delta_h(h, h_0, m=360):\n",
    "#     k = (h % m) - (h_0 % m)\n",
    "#     return k % m\n",
    "\n",
    "# def ha_dist(ha_array, ha_0):\n",
    "#     if ha_0 >= 0:\n",
    "#         ha_array.sort()\n",
    "    \n",
    "#     try:\n",
    "#         start = np.argwhere(np.isclose(ha_array, ha_0)).ravel()[0]\n",
    "#     except IndexError:\n",
    "#         return -1\n",
    "    \n",
    "#     diff = np.diff(ha_array)\n",
    "#     diff_shifted = diff[start:]\n",
    "    \n",
    "#     if not diff_shifted.size:\n",
    "#         return 0\n",
    "\n",
    "#     if np.all(np.isclose(diff_shifted, 1)):\n",
    "#         return diff_shifted.size\n",
    "\n",
    "#     breaks = np.argwhere(~np.isclose(diff_shifted, 1)).ravel()\n",
    "#     ha_dist = breaks[0]\n",
    "\n",
    "#     if np.isclose(diff_shifted[ha_dist], -359):\n",
    "#         if breaks.size > 1:\n",
    "#             return diff_shifted[:breaks[1]].size\n",
    "        \n",
    "#         return diff_shifted.size\n",
    "\n",
    "#     return ha_dist\n",
    "\n",
    "def ha_dist(ha_array, ha_0):\n",
    "    try:\n",
    "        # Verify that the initial HA is indeed an option in ha_array\n",
    "        start = np.argwhere(np.isclose(ha_array, ha_0)).ravel()[0]\n",
    "    except IndexError:\n",
    "        return -1\n",
    "\n",
    "    ha_shifted = (ha_array - ha_0) % 360 # Set ha_0 to be 0\n",
    "    ha_shifted.sort()\n",
    "    \n",
    "    idx = np.argwhere(~np.isclose(np.diff(ha_shifted), 1)).ravel()\n",
    "\n",
    "    if idx.size > 0:\n",
    "        return ha_shifted[:idx[0]].size\n",
    "    \n",
    "    return ha_shifted.size\n"
   ]
  },
  {
   "cell_type": "markdown",
   "metadata": {},
   "source": [
    "Compute the optimal Az, for a certain function to calculate $\\Delta h$..."
   ]
  },
  {
   "cell_type": "code",
   "execution_count": 18,
   "metadata": {},
   "outputs": [],
   "source": [
    "# def optimal_az(az_options, ha, dec):\n",
    "#     dec_sel = np.argwhere(np.isclose(dec_zero, dec)).ravel()\n",
    "    \n",
    "#     azimuths = []\n",
    "#     delta_hs = []\n",
    "    \n",
    "#     for az in az_options:\n",
    "#         az_sel = np.argwhere(np.isclose(az_zero, az)).ravel()\n",
    "        \n",
    "#         indices = np.intersect1d(az_sel, dec_sel)\n",
    "    \n",
    "#         # Extract the range of possible HAs\n",
    "#         hs = ha_zero_shifted[indices] # or use 'ha_zero_shifted'\n",
    "        \n",
    "#         print('possible dHAs:', np.diff(hs))\n",
    "        \n",
    "#         if hs.size:\n",
    "#             dh = delta_h(hs, ha)\n",
    "            \n",
    "#             azimuths.append(az)\n",
    "#             delta_hs.append(dh.max())\n",
    "    \n",
    "#     azimuths = np.array(azimuths)\n",
    "#     delta_hs = np.array(delta_hs)\n",
    "    \n",
    "#     return azimuths[delta_hs.argmax()], delta_hs.max()\n",
    "\n",
    "def optimal_az(az_options, ha, dec):\n",
    "    dec_sel = np.argwhere(np.isclose(dec_zero, dec)).ravel()\n",
    "    \n",
    "    azimuths = []\n",
    "    delta_hs = []\n",
    "    \n",
    "    for az in az_options:\n",
    "        az_sel = np.argwhere(np.isclose(az_zero, az)).ravel()\n",
    "        \n",
    "        indices = np.intersect1d(az_sel, dec_sel)\n",
    "        \n",
    "        # Extract the range of possible HAs\n",
    "        hs = ha_zero_shifted[indices]\n",
    "        \n",
    "        print('\\n\\n HAs for az = {} deg -> {}'.format(az, hs))\n",
    "        \n",
    "        if hs.size:\n",
    "            dh = ha_dist(hs, ha)\n",
    "            \n",
    "            azimuths.append(az)\n",
    "            delta_hs.append(dh)\n",
    "            \n",
    "            print('\\n dHA =', dh, 'deg')\n",
    "    \n",
    "    azimuths = np.array(azimuths)\n",
    "    delta_hs = np.array(delta_hs)\n",
    "    \n",
    "    return azimuths[delta_hs.argmax()], delta_hs.max()\n"
   ]
  },
  {
   "cell_type": "markdown",
   "metadata": {},
   "source": [
    "## Selecting $A_d$ Values Given $(h,\\delta)$ Pairs"
   ]
  },
  {
   "cell_type": "code",
   "execution_count": 19,
   "metadata": {},
   "outputs": [],
   "source": [
    "# coords = []\n",
    "# optimal_azimuths = []\n",
    "# hour_angle_diff = []\n",
    "\n",
    "# for h in ha_range_shifted:\n",
    "#     print('ha =', h)\n",
    "#     for d in dec_range:\n",
    "#         # Select indices according to the given ha/dec\n",
    "#         dec_sel = np.argwhere(np.isclose(dec_zero, d)).ravel()\n",
    "#         ha_sel   = np.argwhere(np.isclose(ha_zero_shifted, h)).ravel()\n",
    "#         #h_sel   = np.argwhere(np.isclose(h_selected, h)).ravel()\n",
    "\n",
    "#         indices = np.intersect1d(ha_sel, dec_sel)\n",
    "\n",
    "#         # Find the range of azimuth values\n",
    "#         az = az_zero[indices]\n",
    "\n",
    "#         # Display the results\n",
    "#         if az.size > 0:\n",
    "#             hd_cur = [h, d]\n",
    "#             az_opt, dh = optimal_az(az, *hd_cur)\n",
    "            \n",
    "# #             print(dh)\n",
    "            \n",
    "#             coords.append(hd_cur)\n",
    "#             optimal_azimuths.append(az_opt)\n",
    "#             hour_angle_diff.append(dh)\n",
    "\n",
    "# coords = np.array(coords)\n",
    "# optimal_azimuths = np.array(optimal_azimuths)\n",
    "# hour_angle_diff = np.array(hour_angle_diff)"
   ]
  },
  {
   "cell_type": "code",
   "execution_count": 20,
   "metadata": {},
   "outputs": [],
   "source": [
    "# coords = []\n",
    "# optimal_azimuths = []\n",
    "# hour_angle_diff = []\n",
    "\n",
    "# def gen_opt_az(h):\n",
    "#     for d in dec_range:\n",
    "#         # Select indices according to the given ha/dec\n",
    "#         dec_sel = np.argwhere(np.isclose(dec_zero, d)).ravel()\n",
    "#         ha_sel   = np.argwhere(np.isclose(ha_zero_shifted, h)).ravel()\n",
    "#         #ha_sel   = np.argwhere(np.isclose(h_selected, h)).ravel()\n",
    "\n",
    "#         indices = np.intersect1d(ha_sel, dec_sel)\n",
    "\n",
    "#         # Find the range of azimuth values\n",
    "#         az = az_zero[indices]\n",
    "\n",
    "#         # Display the results\n",
    "#         if az.size > 0:\n",
    "#             hd_cur = [h, d]\n",
    "#             az_opt, dh = optimal_az(az, *hd_cur)\n",
    "            \n",
    "# #             print(dh)\n",
    "            \n",
    "#             coords.append(hd_cur)\n",
    "#             optimal_azimuths.append(az_opt)\n",
    "#             hour_angle_diff.append(dh)\n",
    "    \n",
    "#     print('finished ha = {:>3.0f} degrees at {}'.format(h, datetime.now().strftime('%H:%M')))\n",
    "\n",
    "# results = Parallel(n_jobs=8, backend='multiprocessing')(delayed(gen_opt_az)(h) for h in ha_range_shifted)"
   ]
  },
  {
   "cell_type": "markdown",
   "metadata": {},
   "source": [
    "## Store the Data"
   ]
  },
  {
   "cell_type": "markdown",
   "metadata": {},
   "source": [
    "Zero obstruction:"
   ]
  },
  {
   "cell_type": "code",
   "execution_count": 21,
   "metadata": {},
   "outputs": [],
   "source": [
    "zero_obstruction_coords = np.column_stack([ha_zero, dec_zero, az_zero])\n",
    "np.savetxt('data/zero_obstruction_{}_{}.csv'.format(aperture_name.value, date_signature), zero_obstruction_coords, delimiter=',')"
   ]
  },
  {
   "cell_type": "markdown",
   "metadata": {},
   "source": [
    "Optimal azimuths:"
   ]
  },
  {
   "cell_type": "code",
   "execution_count": 23,
   "metadata": {},
   "outputs": [],
   "source": [
    "# opt = np.column_stack([coords[:, 0], coords[:, 1], optimal_azimuths, hour_angle_diff/15])\n",
    "# np.savetxt('data/optimal_az_{}_{}.csv'.format(aperture_name.value, date_signature), opt, delimiter=',')"
   ]
  },
  {
   "cell_type": "markdown",
   "metadata": {},
   "source": [
    "# Interactivelly Selecting $A_d$"
   ]
  },
  {
   "cell_type": "code",
   "execution_count": 24,
   "metadata": {
    "scrolled": false
   },
   "outputs": [
    {
     "data": {
      "application/vnd.jupyter.widget-view+json": {
       "model_id": "3a9828f5e9a940dfbdcd8e287dfaa2af",
       "version_major": 2,
       "version_minor": 0
      },
      "text/plain": [
       "interactive(children=(FloatSlider(value=0.0, description='ha', max=359.0, step=1.0), FloatSlider(value=0.0, de…"
      ]
     },
     "metadata": {},
     "output_type": "display_data"
    }
   ],
   "source": [
    "@widgets.interact(ha=(ha_zero_shifted.min(), ha_zero_shifted.max(), 1.0), dec=(dec_zero.min(), dec_zero.max(), 1.0))\n",
    "def update(ha=0.0, dec=0.0):\n",
    "    # Select indices according to the given ha/dec\n",
    "    dec_sel = np.argwhere(np.isclose(dec_zero, dec)).ravel()\n",
    "    ha_sel   = np.argwhere(np.isclose(ha_zero_shifted, ha)).ravel()\n",
    "    \n",
    "    indices = np.intersect1d(ha_sel, dec_sel)\n",
    "    \n",
    "    # Find the range of azimuth values\n",
    "    az = az_zero[indices]\n",
    "    \n",
    "    # Display the results\n",
    "    if not az.size:\n",
    "        print('No azimuths available!')\n",
    "    else:\n",
    "        print('Available az (deg): {:} az points\\n'.format(az.size))\n",
    "    \n",
    "        for a in az:\n",
    "            print('{:.0f}'.format(a), end=', ')\n",
    "        \n",
    "        hd_cur = [ha, dec]\n",
    "        az_opt, dh = optimal_az(az, *hd_cur)\n",
    "        \n",
    "        print('\\n\\nThe optimal value is {:.0f} deg'.format(az_opt))\n",
    "        print('\\nThe max. HA dist. is {:.2f} h'.format(dh/15))"
   ]
  },
  {
   "cell_type": "code",
   "execution_count": null,
   "metadata": {},
   "outputs": [],
   "source": [
    "test = np.array([181., 182., 183., 184., 185., 186., 187., 188., 189., 190., 191., 192., 193., 194.,\n",
    " 195., 196., 197., 198., 199., 200., 201., 202., 203., 204., 205., 206., 207., 208.,\n",
    " 209., 210., 211., 212., 213., 214., 215., 216., 354., 355., 356., 357., 358., 359.,\n",
    "   0.,   1.,   2.,   3.,   4.,   5.,   6.,   7.,   8.,   9.,  10.,  11.,  12.,  13.,\n",
    "  14.,  15.,  16.,  17.,  18.,  19.,  20.,  21.,  22.,  23.,  24.,  25.,  26., 176.,\n",
    " 177., 178., 179., 180.])"
   ]
  },
  {
   "cell_type": "code",
   "execution_count": null,
   "metadata": {},
   "outputs": [],
   "source": [
    "h0 = 177"
   ]
  },
  {
   "cell_type": "code",
   "execution_count": null,
   "metadata": {},
   "outputs": [],
   "source": [
    "shifted = (test - h0) % 360\n",
    "shifted.sort()\n",
    "np.argwhere(~np.isclose(np.diff(shifted), 1)).ravel()[0]/15"
   ]
  },
  {
   "cell_type": "code",
   "execution_count": null,
   "metadata": {},
   "outputs": [],
   "source": [
    "shifted"
   ]
  },
  {
   "cell_type": "code",
   "execution_count": null,
   "metadata": {},
   "outputs": [],
   "source": []
  },
  {
   "cell_type": "code",
   "execution_count": null,
   "metadata": {},
   "outputs": [],
   "source": [
    " "
   ]
  }
 ],
 "metadata": {
  "kernelspec": {
   "display_name": "Python 3",
   "language": "python",
   "name": "python3"
  },
  "language_info": {
   "codemirror_mode": {
    "name": "ipython",
    "version": 3
   },
   "file_extension": ".py",
   "mimetype": "text/x-python",
   "name": "python",
   "nbconvert_exporter": "python",
   "pygments_lexer": "ipython3",
   "version": "3.8.3"
  }
 },
 "nbformat": 4,
 "nbformat_minor": 4
}
