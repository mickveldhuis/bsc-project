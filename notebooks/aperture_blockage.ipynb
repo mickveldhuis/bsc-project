{
 "cells": [
  {
   "cell_type": "markdown",
   "metadata": {},
   "source": [
    "# Dome Azimuth From Telescope Orientation"
   ]
  },
  {
   "cell_type": "code",
   "execution_count": 1,
   "metadata": {},
   "outputs": [],
   "source": [
    "%matplotlib inline\n",
    "import numpy as np\n",
    "import numpy.linalg as la\n",
    "\n",
    "# Plotting\n",
    "import ipywidgets as widgets\n",
    "import matplotlib.pyplot as plt\n",
    "import seaborn as sns\n",
    "\n",
    "# Either one of the following imports needs to be used! (1) Linux (2) W10\n",
    "# from matplotlib_inline.backend_inline import set_matplotlib_formats\n",
    "from IPython.display import set_matplotlib_formats\n",
    "\n",
    "from mpl_toolkits.mplot3d import Axes3D\n",
    "\n",
    "# Plotting settings\n",
    "set_matplotlib_formats('png', 'pdf')\n",
    "\n",
    "plt.rc('text', usetex=True)\n",
    "plt.rc('font', family='serif')\n",
    "\n",
    "sns.set_context(\"notebook\", font_scale=1.3, rc={\"lines.linewidth\": 2.5})\n",
    "\n",
    "# For astro conversions\n",
    "from astropy.coordinates import EarthLocation\n",
    "from astropy.time import Time\n",
    "from astropy import units as u\n",
    "import datetime"
   ]
  },
  {
   "cell_type": "markdown",
   "metadata": {},
   "source": [
    "## Modelling The Telescope Pointing"
   ]
  },
  {
   "cell_type": "markdown",
   "metadata": {},
   "source": [
    "Relevant dimensions/constants (in meters unless otherwise stated):"
   ]
  },
  {
   "cell_type": "code",
   "execution_count": 2,
   "metadata": {},
   "outputs": [],
   "source": [
    "# Telescope:\n",
    "l_1 = 0.806 # distance floor-HA axis\n",
    "l_2 = 1.326 # distance HA axis-Dec axis\n",
    "l_3 = 0.424 # distance Dec axis-tube center\n",
    "\n",
    "aperture_r = 0.2 # m\n",
    "\n",
    "# Dome:\n",
    "d = 6.5   # diameter\n",
    "r = d/2   # radius\n",
    "e = 1.76  # extent of cylindrical dome wall\n",
    "h = r + e # height of half capsule repr. dome\n",
    "w = 1.84  # Slit width\n",
    "\n",
    "# Obvervatory:\n",
    "lat = 53.24 # degrees"
   ]
  },
  {
   "cell_type": "markdown",
   "metadata": {},
   "source": [
    "Defining the transformation matrices:"
   ]
  },
  {
   "cell_type": "code",
   "execution_count": 3,
   "metadata": {},
   "outputs": [],
   "source": [
    "def vec(x, y, z):\n",
    "    return np.array([x, y, z, 1]).reshape((4,1))\n",
    "\n",
    "def trans(x, y, z):\n",
    "    return np.array([\n",
    "        [1, 0, 0, x],\n",
    "        [0, 1, 0, y],\n",
    "        [0, 0, 1, z],\n",
    "        [0, 0, 0, 1],\n",
    "    ])\n",
    "\n",
    "def rot_x(angle):\n",
    "    angle = np.radians(angle)\n",
    "    return np.array([\n",
    "        [1,             0,              0, 0],\n",
    "        [0, np.cos(angle), -np.sin(angle), 0],\n",
    "        [0, np.sin(angle),  np.cos(angle), 0],\n",
    "        [0,             0,              0, 1],\n",
    "    ])\n",
    "\n",
    "def rot_y(angle):\n",
    "    angle = np.radians(angle)\n",
    "    return np.array([\n",
    "        [np.cos(angle),  0,  -np.sin(angle), 0],\n",
    "        [0,              1,               0, 0],\n",
    "        [-np.sin(angle), 0,   np.cos(angle), 0],\n",
    "        [0,              0,               0, 1],\n",
    "    ])\n",
    "\n",
    "def rot_z(angle):\n",
    "    angle = np.radians(angle)\n",
    "    return np.array([\n",
    "        [np.cos(angle),  -np.sin(angle), 0, 0],\n",
    "        [np.sin(angle),  np.cos(angle), 0, 0],\n",
    "        [0, 0, 1, 0],\n",
    "        [0, 0, 0, 1],\n",
    "    ])"
   ]
  },
  {
   "cell_type": "markdown",
   "metadata": {},
   "source": [
    "Compute the position of the telescope back plate with `get_transform` and `telescope_pos`."
   ]
  },
  {
   "cell_type": "code",
   "execution_count": 4,
   "metadata": {},
   "outputs": [],
   "source": [
    "def get_transform(ha, dec, x=0, y=-0.5, z=0):\n",
    "    H_01 = trans(0, 0, l_1)\n",
    "    H_12 = rot_x(90-lat) @ rot_z(ha) @ trans(0, 0, l_2)\n",
    "    H_23 = rot_x(dec) @ trans(-l_3, 0, 0)\n",
    "    H_34 = trans(x, y, z)\n",
    "    \n",
    "    H = H_01 @ H_12 @ H_23 @ H_34\n",
    "    \n",
    "    return H\n",
    "\n",
    "def telescope_pos(ha=0, dec=0):\n",
    "    \"\"\"\n",
    "    Compute the position of the\n",
    "    telescope in the dome.\n",
    "    \"\"\"\n",
    "    origin = vec(0, 0, 0)\n",
    "    pose_matrix = get_transform(ha, dec, y=0)\n",
    "    \n",
    "    return pose_matrix @ origin\n",
    "\n",
    "def get_aperture(ha, dec, x, z):\n",
    "    \"\"\"\n",
    "    Compute a position in the\n",
    "    aperture of the telescope.\n",
    "    \"\"\"\n",
    "    origin = vec(0, 0, 0)\n",
    "    pose_matrix = get_transform(ha, dec, x=x, y=0, z=z)\n",
    "    \n",
    "    return pose_matrix @ origin"
   ]
  },
  {
   "cell_type": "markdown",
   "metadata": {},
   "source": [
    "## Telescope in dome frame"
   ]
  },
  {
   "cell_type": "markdown",
   "metadata": {},
   "source": [
    "Compute the origin of each consecutive reference frame with `get_origins`."
   ]
  },
  {
   "cell_type": "code",
   "execution_count": 5,
   "metadata": {},
   "outputs": [],
   "source": [
    "def get_origins(ha, dec, y_back=-0.3):\n",
    "    \"\"\"Compute the origin of each intermediate ref. frame.\"\"\"\n",
    "    origin = vec(0, 0, 0)\n",
    "    H_01 = trans(0, 0, l_1)\n",
    "    H_12 = rot_x(90-lat) @ rot_z(ha) @ trans(0, 0, l_2)\n",
    "    H_23 = rot_x(dec) @ trans(-l_3, 0, 0)\n",
    "    H_34 = trans(0, y_back, 0)\n",
    "    H_45 = trans(0, -3*y_back, 0)\n",
    "    \n",
    "    pose_0 = origin # Dome origin\n",
    "    pose_1 = H_01 @ origin # RA axis origin\n",
    "    pose_2 = H_01 @ H_12 @ origin # Dec axis origin\n",
    "    pose_3 = H_01 @ H_12 @ H_23 @ origin # Center aperture\n",
    "    pose_4 = H_01 @ H_12 @ H_23 @ H_34 @ origin # Back aperture\n",
    "    pose_5 = H_01 @ H_12 @ H_23 @ H_34 @ H_45 @ origin # Front aperture\n",
    "\n",
    "    return np.array([pose_0, pose_1,pose_2,pose_3,pose_4, pose_5])\n",
    "\n",
    "def get_direction(p1, p2):\n",
    "    d = p2 - p1\n",
    "    d_unit = d/la.norm(d)\n",
    "    \n",
    "    return d_unit"
   ]
  },
  {
   "cell_type": "markdown",
   "metadata": {},
   "source": [
    "To calculate the dome azimuth, using `atan2`, we require a conversion function. Assuming we assume the azimuth to be 0 north and increasing in the eastward direction."
   ]
  },
  {
   "cell_type": "code",
   "execution_count": 6,
   "metadata": {},
   "outputs": [],
   "source": [
    "def compute_azimuth(x, y):\n",
    "    \"\"\"\n",
    "    Return the azimuth (rad) using\n",
    "    the north clockwise conv.\n",
    "    \"\"\"\n",
    "    az = np.arctan2(x, y) # note (x,y) rather than (y,x)\n",
    "    \n",
    "    if az < 0:\n",
    "        az += 2*np.pi\n",
    "    \n",
    "    return az"
   ]
  },
  {
   "cell_type": "markdown",
   "metadata": {},
   "source": [
    "## Dome Azimuth"
   ]
  },
  {
   "cell_type": "code",
   "execution_count": 7,
   "metadata": {},
   "outputs": [],
   "source": [
    "class Capsule:\n",
    "    def __init__(self, radius, extent, center_x=0, center_y=0, center_z=0):\n",
    "        self.r = radius\n",
    "        self.e = extent\n",
    "        self.c = np.array([center_x, center_y, center_z])\n",
    "        \n",
    "    def get_radius(self):\n",
    "        return self.r\n",
    "    \n",
    "    def get_extent(self):\n",
    "        return self.e\n",
    "    \n",
    "    def get_center(self):\n",
    "        return self.c\n",
    "    \n",
    "class Vector:\n",
    "    def __init__(self, x=0, y=0, z=0):\n",
    "        self.x = x\n",
    "        self.y = y\n",
    "        self.z = z\n",
    "        self.array = np.array([x, y, z])\n",
    "        \n",
    "    def get_x(self):\n",
    "        return self.x\n",
    "        \n",
    "    def get_y(self):\n",
    "        return self.y\n",
    "        \n",
    "    def get_z(self):\n",
    "        return self.z\n",
    "    \n",
    "    def get_array(self):\n",
    "        return self.array"
   ]
  },
  {
   "cell_type": "code",
   "execution_count": 8,
   "metadata": {},
   "outputs": [],
   "source": [
    "def find_intersection(point, direction, capsule):\n",
    "    has_intersection = False\n",
    "    t = None\n",
    "    \n",
    "#     if direction.z < 0:\n",
    "#         return has_intersection, t\n",
    "    \n",
    "    if np.isclose(direction.x, 0) and np.isclose(direction.y, 0):\n",
    "        z = e + np.sqrt(capsule.r**2 - point.x**2 - point.y**2)\n",
    "        t = z - point.z\n",
    "        \n",
    "        has_intersection = True\n",
    "        return has_intersection, t\n",
    "    \n",
    "    # If the direction vector is not (nearly) parallel to \n",
    "    # the z-axis of the capsule\n",
    "    a2 = direction.x**2 + direction.y**2\n",
    "    a1 = point.x*direction.x + point.y*direction.y\n",
    "    a0 = point.x**2 + point.y**2 - capsule.r**2\n",
    "    \n",
    "    delta = a1**2-a0*a2\n",
    "    t     = (-a1+np.sqrt(delta))/a2\n",
    "    \n",
    "    if point.z + t * direction.z >= capsule.e:\n",
    "        a0 = point.x**2 + point.y**2 + (point.z-capsule.e)**2 - capsule.r**2\n",
    "        a1 = point.x*direction.x + point.y*direction.y + (point.z-capsule.e)*direction.z\n",
    "        \n",
    "        t = -a1+np.sqrt(a1**2-a0)\n",
    "    \n",
    "    if t:\n",
    "        has_intersection = True\n",
    "    \n",
    "    return has_intersection, t\n",
    "\n",
    "def get_ray_intersection(p, d, t):\n",
    "    return p.get_array() + t*d.get_array()"
   ]
  },
  {
   "cell_type": "markdown",
   "metadata": {},
   "source": [
    "## Telescope-Dome Model"
   ]
  },
  {
   "cell_type": "markdown",
   "metadata": {},
   "source": [
    "**Note:** To use the nort-clockwise convension to calculate the azimuth angle, use `atan2(x, y)` rather than `atan2(y, x)`, which gives the angle in an east-counterclockwise manner."
   ]
  },
  {
   "cell_type": "code",
   "execution_count": 9,
   "metadata": {},
   "outputs": [],
   "source": [
    "ha = np.linspace(-180, 180, 100)\n",
    "dec = np.linspace(-90, 90, 100)"
   ]
  },
  {
   "cell_type": "code",
   "execution_count": 10,
   "metadata": {},
   "outputs": [],
   "source": [
    "def get_dome_azimuth(ha, dec, dome, print_result=False):\n",
    "    \"\"\"\n",
    "    Using the HA/Dec angles, compute\n",
    "    the azimuth of the dome.\n",
    "    \n",
    "    Returns a tuple (az, STATUS):\n",
    "    - STATUS = 0 -> Error\n",
    "    - STATUS = 1 -> Succes\n",
    "    \"\"\"\n",
    "    az    = 0\n",
    "    STATUS = 1\n",
    "\n",
    "    # Get the origins of each ref. frame \n",
    "    os = get_origins(ha, dec)[:,:3].reshape(6, 3)\n",
    "\n",
    "    # Compute dome intersection\n",
    "    tube_center = os[[3,5]][0]\n",
    "    direction = Vector(*get_direction(tube_center, os[[3,5]][1]))\n",
    "    p = Vector(*tube_center)\n",
    "\n",
    "    try:\n",
    "        has_intersection, t = find_intersection(p, direction, dome)\n",
    "\n",
    "        if has_intersection:\n",
    "            p_s = get_ray_intersection(p, direction, t)\n",
    "            os = np.concatenate([os, [p_s]])\n",
    "\n",
    "            az = compute_azimuth(p_s[0], p_s[1])\n",
    "            \n",
    "            if print_result:\n",
    "                print('Az =', np.degrees(az),'degrees')\n",
    "    except:\n",
    "        STATUS = 0\n",
    "    \n",
    "    return np.degrees(az)\n",
    "\n",
    "get_az = np.vectorize(get_dome_azimuth)"
   ]
  },
  {
   "cell_type": "markdown",
   "metadata": {},
   "source": [
    "## Disk Sampling"
   ]
  },
  {
   "cell_type": "markdown",
   "metadata": {},
   "source": [
    "See [mathworld's disk point picking article](https://mathworld.wolfram.com/DiskPointPicking.html)."
   ]
  },
  {
   "cell_type": "code",
   "execution_count": 11,
   "metadata": {},
   "outputs": [],
   "source": [
    "delta = 1/120"
   ]
  },
  {
   "cell_type": "code",
   "execution_count": 12,
   "metadata": {},
   "outputs": [
    {
     "data": {
      "text/plain": [
       "121"
      ]
     },
     "execution_count": 12,
     "metadata": {},
     "output_type": "execute_result"
    }
   ],
   "source": [
    "np.arange(0, 1+delta, delta).size"
   ]
  },
  {
   "cell_type": "code",
   "execution_count": 13,
   "metadata": {},
   "outputs": [],
   "source": [
    "def uniform_disk(r, n):\n",
    "    radii  = np.random.uniform(0, 1, n)\n",
    "    angles = np.random.uniform(0, 2*np.pi, n)\n",
    "    \n",
    "    x = np.sqrt(radii) * np.cos(angles)\n",
    "    y = np.sqrt(radii) * np.sin(angles)\n",
    "    \n",
    "    xy = r*np.column_stack([x, y])\n",
    "    \n",
    "    return xy\n",
    "\n",
    "def equidistant_disk(r, n):\n",
    "    delta_r = 1/n\n",
    "    radii = np.arange(0, 1 + delta, delta)\n",
    "    \n",
    "    # DO STUFF; See http://www.holoborodko.com/pavel/2015/07/23/generating-equidistant-points-on-unit-disk/\n",
    "    \n",
    "    xy = None\n",
    "    \n",
    "    return xy"
   ]
  },
  {
   "cell_type": "markdown",
   "metadata": {},
   "source": [
    "Compute the intersection of the rays with the dome:"
   ]
  },
  {
   "cell_type": "code",
   "execution_count": 14,
   "metadata": {},
   "outputs": [],
   "source": [
    "# def get_pointing_direction(ha, dec):\n",
    "#      # Get the origins of each ref. frame \n",
    "#     os = get_origins(ha, dec)[:,:3].reshape(6, 3)\n",
    "\n",
    "#     # Compute dome intersection\n",
    "#     tube_center = os[[3,5]][0]\n",
    "#     direction = Vector(*get_direction(tube_center, os[[3,5]][1]))\n",
    "    \n",
    "#     return direction\n",
    "\n",
    "def semi_intersection(elev, w, r):\n",
    "    k = np.power(r*np.cos(elev), 2) - np.power(w/2, 2)\n",
    "    \n",
    "    # INTRODUCE PROPER SOLUTION!!!\n",
    "    if k < 0:\n",
    "        print('Hello neg sqrt here! discriminant =', k, ', (w/2)^2 =', np.power(w/2, 2), ', r*cos(elev) =', r*np.cos(elev))\n",
    "        return 0\n",
    "    \n",
    "    return np.sqrt(k)\n",
    "\n",
    "def get_semi_az(p, dome):\n",
    "    elev = np.arctan2(p[2] - dome.e, np.sqrt(p[0]**2 + p[1]**2))\n",
    "    \n",
    "#     print('elev', np.degrees(elev), ', (x,y) = (', p[0], p[1], ')')\n",
    "    \n",
    "    y = semi_intersection(elev, w, dome.r)\n",
    "    x = w/2\n",
    "    delta = np.pi/2 - np.arctan2(y, x)\n",
    "    \n",
    "    return delta\n",
    "\n",
    "def is_blocked(origin, ha, dec, dome_az, dome):\n",
    "    \"\"\"\n",
    "    Return True when the given ray in the aperture is blocked.\n",
    "    \"\"\"\n",
    "    is_b = True\n",
    "    \n",
    "    p = Vector(*origin.reshape(3))\n",
    "    \n",
    "    # Get the origins of each ref. frame \n",
    "    os = get_origins(ha, dec)[:,:3].reshape(6, 3)\n",
    "\n",
    "    # Compute dome intersection\n",
    "    tube_center = os[[3,5]][0]\n",
    "    direction = Vector(*get_direction(tube_center, os[[3,5]][1]))\n",
    "\n",
    "    try:\n",
    "        has_intersection, t = find_intersection(p, direction, dome)\n",
    "\n",
    "        if has_intersection:\n",
    "            p_s = get_ray_intersection(p, direction, t)\n",
    "            \n",
    "            ray_az = np.degrees(compute_azimuth(p_s[0], p_s[1]))\n",
    "            slit_offset = np.degrees(get_semi_az(p_s, dome))\n",
    "            slit_az_min = dome_az - slit_offset + 360 \n",
    "            slit_az_max = dome_az + slit_offset\n",
    "            \n",
    "            is_ray_in_slit = ray_az > slit_az_min or ray_az < slit_az_max\n",
    "\n",
    "#             print('ray az   = {:.2f} deg'.format(ray_az))\n",
    "#             print('slit     = {:.2f} +/- deg'.format(dome_az, slit_offset))\n",
    "#             print('slit min = {:.2f} deg; slit max = {:.2f}'.format(slit_az_min, slit_az_max))\n",
    "            \n",
    "            if p_s[2] > dome.e and is_ray_in_slit:\n",
    "                is_b = False\n",
    "            \n",
    "    except Exception as ex:\n",
    "        print(str(ex))\n",
    "    \n",
    "#     print('height', os[3][2])\n",
    "#     print('p_z =', p_s[2], 'vs.', 'e =', e)\n",
    "    \n",
    "    return is_b"
   ]
  },
  {
   "cell_type": "markdown",
   "metadata": {},
   "source": [
    "Uniformly sample the aperture:"
   ]
  },
  {
   "cell_type": "code",
   "execution_count": 15,
   "metadata": {},
   "outputs": [],
   "source": [
    "ap_xz = uniform_disk(aperture_r, 5000)\n",
    "ap_x, ap_z = ap_xz.T"
   ]
  },
  {
   "cell_type": "markdown",
   "metadata": {},
   "source": [
    "Plot the point distribution, looking down the aperture of the telescope:"
   ]
  },
  {
   "cell_type": "code",
   "execution_count": 16,
   "metadata": {},
   "outputs": [],
   "source": [
    "# fig = plt.figure(figsize=(4, 4))\n",
    "# frame = fig.add_subplot(1, 1, 1)\n",
    "\n",
    "# frame.plot(ap_x, ap_z, ls='', marker='o', ms=3, color='black')\n",
    "\n",
    "# frame.set_xlabel(r'$x$', fontsize=18)\n",
    "# frame.set_ylabel(r'$z$', fontsize=18)\n",
    "# frame.grid(ls='--', alpha=0.5)\n",
    "\n",
    "# frame.set_ylim(-2*aperture_r, 2*aperture_r)\n",
    "# frame.set_xlim(-2*aperture_r, 2*aperture_r)\n",
    "\n",
    "# plt.show()"
   ]
  },
  {
   "cell_type": "markdown",
   "metadata": {},
   "source": [
    "Specify the HA/Dec of the telescope & Az of the dome... In DEGREES..."
   ]
  },
  {
   "cell_type": "code",
   "execution_count": 17,
   "metadata": {},
   "outputs": [],
   "source": [
    "ha_test = 0 #36\n",
    "dec_test = -40 #24\n",
    "az_test = 0 #250"
   ]
  },
  {
   "cell_type": "markdown",
   "metadata": {},
   "source": [
    "Compute the origin of the uniformly sampled aperture:"
   ]
  },
  {
   "cell_type": "code",
   "execution_count": 18,
   "metadata": {},
   "outputs": [
    {
     "data": {
      "text/plain": [
       "[1, 1, 1]"
      ]
     },
     "execution_count": 18,
     "metadata": {},
     "output_type": "execute_result"
    }
   ],
   "source": [
    "list(np.array([1, 1, 1]))"
   ]
  },
  {
   "cell_type": "code",
   "execution_count": 23,
   "metadata": {},
   "outputs": [],
   "source": [
    "ap_pos = []\n",
    "\n",
    "for x, z in zip(ap_x, ap_z):\n",
    "    p = get_aperture(ha_test, dec_test, -x, z)\n",
    "    ap_pos.append(p)\n",
    "    \n",
    "ap_pos = np.array(ap_pos)\n",
    "ap_pos = ap_pos[:, :3]\n",
    "\n",
    "# ap_pos = np.stack(get_aperture(ha_test, dec_test, -ap_x, ap_z))"
   ]
  },
  {
   "cell_type": "code",
   "execution_count": 24,
   "metadata": {},
   "outputs": [
    {
     "data": {
      "text/plain": [
       "array([[[-0.28999742],\n",
       "        [-0.79381836],\n",
       "        [ 1.86382804]],\n",
       "\n",
       "       [[-0.3941724 ],\n",
       "        [-0.79454828],\n",
       "        [ 1.850934  ]],\n",
       "\n",
       "       [[-0.26476448],\n",
       "        [-0.7988937 ],\n",
       "        [ 1.77417206]],\n",
       "\n",
       "       ...,\n",
       "\n",
       "       [[-0.46656946],\n",
       "        [-0.79921965],\n",
       "        [ 1.76841404]],\n",
       "\n",
       "       [[-0.36168742],\n",
       "        [-0.79936568],\n",
       "        [ 1.76583438]],\n",
       "\n",
       "       [[-0.60351688],\n",
       "        [-0.79347014],\n",
       "        [ 1.86997939]]])"
      ]
     },
     "execution_count": 24,
     "metadata": {},
     "output_type": "execute_result"
    }
   ],
   "source": [
    "ap_pos"
   ]
  },
  {
   "cell_type": "code",
   "execution_count": null,
   "metadata": {},
   "outputs": [],
   "source": [
    "dome  = Capsule(r, e)\n",
    "# d = get_pointing_direction(0, -60)"
   ]
  },
  {
   "cell_type": "markdown",
   "metadata": {},
   "source": [
    "Compute the blocked rays:"
   ]
  },
  {
   "cell_type": "code",
   "execution_count": null,
   "metadata": {},
   "outputs": [],
   "source": [
    "blocked = []\n",
    "\n",
    "for p in ap_pos:\n",
    "    b = is_blocked(p, ha_test, dec_test, az_test, dome)\n",
    "    blocked.append(b)\n",
    "\n",
    "blocked = np.array(blocked)\n",
    "\n",
    "print('Aperture blockage = {:.2%}'.format(blocked[blocked].size/blocked.size))"
   ]
  },
  {
   "cell_type": "code",
   "execution_count": null,
   "metadata": {},
   "outputs": [],
   "source": [
    "fig = plt.figure(figsize=(4.5, 4.5))\n",
    "frame = fig.add_subplot(1, 1, 1)\n",
    "\n",
    "frame.plot(ap_x[blocked], ap_z[blocked], ls='', marker='o', ms=3, color='xkcd:salmon', label='Blocked')\n",
    "frame.plot(ap_x[~blocked], ap_z[~blocked], ls='', marker='o', ms=3, color='black', label='Clear')\n",
    "\n",
    "frame.set_xlabel(r'$x$', fontsize=18)\n",
    "frame.set_ylabel(r'$z$', fontsize=18)\n",
    "frame.grid(ls='--', alpha=0.5)\n",
    "\n",
    "frame.set_ylim(-2*aperture_r, 2*aperture_r)\n",
    "frame.set_xlim(-2*aperture_r, 2*aperture_r)\n",
    "\n",
    "frame.set_title('Primary Aperture', fontsize=20)\n",
    "\n",
    "frame.legend(fontsize=15, loc='lower right')\n",
    "\n",
    "plt.show()"
   ]
  }
 ],
 "metadata": {
  "kernelspec": {
   "display_name": "Python 3",
   "language": "python",
   "name": "python3"
  },
  "language_info": {
   "codemirror_mode": {
    "name": "ipython",
    "version": 3
   },
   "file_extension": ".py",
   "mimetype": "text/x-python",
   "name": "python",
   "nbconvert_exporter": "python",
   "pygments_lexer": "ipython3",
   "version": "3.8.3"
  }
 },
 "nbformat": 4,
 "nbformat_minor": 5
}
